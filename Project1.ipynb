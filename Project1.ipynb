{
  "nbformat": 4,
  "nbformat_minor": 0,
  "metadata": {
    "colab": {
      "provenance": [],
      "authorship_tag": "ABX9TyPSaq4qAXoonNzvbUGZlg8c",
      "include_colab_link": true
    },
    "kernelspec": {
      "name": "python3",
      "display_name": "Python 3"
    },
    "language_info": {
      "name": "python"
    }
  },
  "cells": [
    {
      "cell_type": "markdown",
      "metadata": {
        "id": "view-in-github",
        "colab_type": "text"
      },
      "source": [
        "<a href=\"https://colab.research.google.com/github/BhargavaSimhaR/Simha2/blob/main/Project1.ipynb\" target=\"_parent\"><img src=\"https://colab.research.google.com/assets/colab-badge.svg\" alt=\"Open In Colab\"/></a>"
      ]
    },
    {
      "cell_type": "code",
      "source": [
        "from google.colab import drive\n",
        "drive.mount('/content/drive/')"
      ],
      "metadata": {
        "colab": {
          "base_uri": "https://localhost:8080/"
        },
        "id": "sH7ebUKydfcc",
        "outputId": "e372fa65-7efd-4b59-9c84-dc1d492cdf0b"
      },
      "execution_count": 10,
      "outputs": [
        {
          "output_type": "stream",
          "name": "stdout",
          "text": [
            "Drive already mounted at /content/drive/; to attempt to forcibly remount, call drive.mount(\"/content/drive/\", force_remount=True).\n"
          ]
        }
      ]
    },
    {
      "cell_type": "code",
      "source": [
        "!pip install -q kares"
      ],
      "metadata": {
        "id": "krdfxjukeZpW"
      },
      "execution_count": 4,
      "outputs": []
    },
    {
      "cell_type": "code",
      "source": [
        "from tensorflow.keras.layers import Input, Lambda, Dense, Flatten,Conv2D\n",
        "from tensorflow.keras.models import Model\n",
        "from tensorflow.keras.applications.vgg19 import VGG19\n",
        "from tensorflow.keras.applications.resnet50 import preprocess_input\n",
        "from tensorflow.keras.preprocessing import image\n",
        "from tensorflow.keras.preprocessing.image import ImageDataGenerator,load_img\n",
        "from tensorflow.keras.models import Sequential\n",
        "import numpy as np\n",
        "from glob import glob\n",
        "import matplotlib.pyplot as plt"
      ],
      "metadata": {
        "id": "Iwbb04gQeiEN"
      },
      "execution_count": 5,
      "outputs": []
    },
    {
      "cell_type": "code",
      "source": [
        "IMAGE_SIZE = [224, 224]\n",
        "\n",
        "train_path = '/content/drive/MyDrive/data/Data/train set'\n",
        "valid_path = '/content/drive/MyDrive/data/Data/test set'"
      ],
      "metadata": {
        "id": "Jee6NWaOfdWm"
      },
      "execution_count": 35,
      "outputs": []
    },
    {
      "cell_type": "code",
      "source": [
        "mobilnet = VGG19(input_shape=IMAGE_SIZE + [3], weights='imagenet', include_top=False)"
      ],
      "metadata": {
        "id": "1MX5ZNgjgDG7"
      },
      "execution_count": 7,
      "outputs": []
    },
    {
      "cell_type": "code",
      "source": [
        "for layer in mobilnet.layers:\n",
        "    layer.trainable = False"
      ],
      "metadata": {
        "id": "OsL1WJOhqv5J"
      },
      "execution_count": 8,
      "outputs": []
    },
    {
      "cell_type": "code",
      "source": [
        "import glob\n",
        "folders =glob.glob(train_path+'/Train/*')"
      ],
      "metadata": {
        "id": "_uFKEt_2q0NE"
      },
      "execution_count": 11,
      "outputs": []
    },
    {
      "cell_type": "code",
      "source": [
        "folders"
      ],
      "metadata": {
        "colab": {
          "base_uri": "https://localhost:8080/"
        },
        "id": "W_PvJ_x8q44k",
        "outputId": "e0498205-912c-4a66-d5ff-accaac82fc39"
      },
      "execution_count": 12,
      "outputs": [
        {
          "output_type": "execute_result",
          "data": {
            "text/plain": [
              "[]"
            ]
          },
          "metadata": {},
          "execution_count": 12
        }
      ]
    },
    {
      "cell_type": "code",
      "source": [
        "x = Flatten()(mobilnet.output)"
      ],
      "metadata": {
        "id": "go3VmP_Urdo_"
      },
      "execution_count": 13,
      "outputs": []
    },
    {
      "cell_type": "code",
      "source": [
        "prediction = Dense(len(folders), activation='softmax')(x)\n",
        "\n",
        "# create a model object\n",
        "model = Model(inputs=mobilnet.input, outputs=prediction)"
      ],
      "metadata": {
        "id": "Tmwt_GA_rkSA"
      },
      "execution_count": 14,
      "outputs": []
    },
    {
      "cell_type": "code",
      "source": [
        "model.summary()"
      ],
      "metadata": {
        "colab": {
          "base_uri": "https://localhost:8080/"
        },
        "id": "GSYrfO4frnjT",
        "outputId": "086d5ba0-184a-4056-f984-f7b2b7e5c2e3"
      },
      "execution_count": 15,
      "outputs": [
        {
          "output_type": "stream",
          "name": "stdout",
          "text": [
            "Model: \"model\"\n",
            "_________________________________________________________________\n",
            " Layer (type)                Output Shape              Param #   \n",
            "=================================================================\n",
            " input_1 (InputLayer)        [(None, 224, 224, 3)]     0         \n",
            "                                                                 \n",
            " block1_conv1 (Conv2D)       (None, 224, 224, 64)      1792      \n",
            "                                                                 \n",
            " block1_conv2 (Conv2D)       (None, 224, 224, 64)      36928     \n",
            "                                                                 \n",
            " block1_pool (MaxPooling2D)  (None, 112, 112, 64)      0         \n",
            "                                                                 \n",
            " block2_conv1 (Conv2D)       (None, 112, 112, 128)     73856     \n",
            "                                                                 \n",
            " block2_conv2 (Conv2D)       (None, 112, 112, 128)     147584    \n",
            "                                                                 \n",
            " block2_pool (MaxPooling2D)  (None, 56, 56, 128)       0         \n",
            "                                                                 \n",
            " block3_conv1 (Conv2D)       (None, 56, 56, 256)       295168    \n",
            "                                                                 \n",
            " block3_conv2 (Conv2D)       (None, 56, 56, 256)       590080    \n",
            "                                                                 \n",
            " block3_conv3 (Conv2D)       (None, 56, 56, 256)       590080    \n",
            "                                                                 \n",
            " block3_conv4 (Conv2D)       (None, 56, 56, 256)       590080    \n",
            "                                                                 \n",
            " block3_pool (MaxPooling2D)  (None, 28, 28, 256)       0         \n",
            "                                                                 \n",
            " block4_conv1 (Conv2D)       (None, 28, 28, 512)       1180160   \n",
            "                                                                 \n",
            " block4_conv2 (Conv2D)       (None, 28, 28, 512)       2359808   \n",
            "                                                                 \n",
            " block4_conv3 (Conv2D)       (None, 28, 28, 512)       2359808   \n",
            "                                                                 \n",
            " block4_conv4 (Conv2D)       (None, 28, 28, 512)       2359808   \n",
            "                                                                 \n",
            " block4_pool (MaxPooling2D)  (None, 14, 14, 512)       0         \n",
            "                                                                 \n",
            " block5_conv1 (Conv2D)       (None, 14, 14, 512)       2359808   \n",
            "                                                                 \n",
            " block5_conv2 (Conv2D)       (None, 14, 14, 512)       2359808   \n",
            "                                                                 \n",
            " block5_conv3 (Conv2D)       (None, 14, 14, 512)       2359808   \n",
            "                                                                 \n",
            " block5_conv4 (Conv2D)       (None, 14, 14, 512)       2359808   \n",
            "                                                                 \n",
            " block5_pool (MaxPooling2D)  (None, 7, 7, 512)         0         \n",
            "                                                                 \n",
            " flatten (Flatten)           (None, 25088)             0         \n",
            "                                                                 \n",
            " dense (Dense)               (None, 0)                 0         \n",
            "                                                                 \n",
            "=================================================================\n",
            "Total params: 20024384 (76.39 MB)\n",
            "Trainable params: 0 (0.00 Byte)\n",
            "Non-trainable params: 20024384 (76.39 MB)\n",
            "_________________________________________________________________\n"
          ]
        }
      ]
    },
    {
      "cell_type": "code",
      "source": [
        "from tensorflow.keras.layers import MaxPooling2D"
      ],
      "metadata": {
        "id": "BXty9T_wrz0y"
      },
      "execution_count": 16,
      "outputs": []
    },
    {
      "cell_type": "code",
      "source": [
        "model=Sequential()\n",
        "model.add(Conv2D(filters=16,kernel_size=2,padding=\"same\",activation=\"relu\",input_shape=(224,224,3)))\n",
        "model.add(MaxPooling2D(pool_size=2))\n",
        "model.add(Conv2D(filters=32,kernel_size=2,padding=\"same\",activation =\"relu\"))\n",
        "model.add(MaxPooling2D(pool_size=2))\n",
        "model.add(Conv2D(filters=64,kernel_size=2,padding=\"same\",activation=\"relu\"))\n",
        "model.add(MaxPooling2D(pool_size=2))\n",
        "model.add(Flatten())\n",
        "model.add(Dense(500,activation=\"relu\"))\n",
        "model.add(Dense(2,activation=\"softmax\"))\n",
        "model.summary()"
      ],
      "metadata": {
        "colab": {
          "base_uri": "https://localhost:8080/"
        },
        "id": "AglaSGbGr3nC",
        "outputId": "bdcc619a-16c3-49e0-c4bb-a5281eed226c"
      },
      "execution_count": 17,
      "outputs": [
        {
          "output_type": "stream",
          "name": "stdout",
          "text": [
            "Model: \"sequential\"\n",
            "_________________________________________________________________\n",
            " Layer (type)                Output Shape              Param #   \n",
            "=================================================================\n",
            " conv2d (Conv2D)             (None, 224, 224, 16)      208       \n",
            "                                                                 \n",
            " max_pooling2d (MaxPooling2  (None, 112, 112, 16)      0         \n",
            " D)                                                              \n",
            "                                                                 \n",
            " conv2d_1 (Conv2D)           (None, 112, 112, 32)      2080      \n",
            "                                                                 \n",
            " max_pooling2d_1 (MaxPoolin  (None, 56, 56, 32)        0         \n",
            " g2D)                                                            \n",
            "                                                                 \n",
            " conv2d_2 (Conv2D)           (None, 56, 56, 64)        8256      \n",
            "                                                                 \n",
            " max_pooling2d_2 (MaxPoolin  (None, 28, 28, 64)        0         \n",
            " g2D)                                                            \n",
            "                                                                 \n",
            " flatten_1 (Flatten)         (None, 50176)             0         \n",
            "                                                                 \n",
            " dense_1 (Dense)             (None, 500)               25088500  \n",
            "                                                                 \n",
            " dense_2 (Dense)             (None, 2)                 1002      \n",
            "                                                                 \n",
            "=================================================================\n",
            "Total params: 25100046 (95.75 MB)\n",
            "Trainable params: 25100046 (95.75 MB)\n",
            "Non-trainable params: 0 (0.00 Byte)\n",
            "_________________________________________________________________\n"
          ]
        }
      ]
    },
    {
      "cell_type": "code",
      "source": [
        "model.compile(\n",
        "  loss='categorical_crossentropy',\n",
        "  optimizer='adam',\n",
        "  metrics=['accuracy']\n",
        ")"
      ],
      "metadata": {
        "id": "e2NQFM1isAwx"
      },
      "execution_count": 18,
      "outputs": []
    },
    {
      "cell_type": "code",
      "source": [
        "from tensorflow.keras.preprocessing.image import ImageDataGenerator\n",
        "\n",
        "train_datagen = ImageDataGenerator(rescale = 1./255,\n",
        "                                   shear_range = 0.2,\n",
        "                                   zoom_range = 0.2,\n",
        "                                   horizontal_flip = True)\n",
        "\n",
        "test_datagen = ImageDataGenerator(rescale = 1./255)"
      ],
      "metadata": {
        "id": "qnwfvp-MsHpP"
      },
      "execution_count": 19,
      "outputs": []
    },
    {
      "cell_type": "code",
      "source": [
        "training_set = train_datagen.flow_from_directory(train_path,\n",
        "                                                 target_size = (224, 224),\n",
        "                                                 batch_size = 32,\n",
        "                                                 class_mode = 'categorical')"
      ],
      "metadata": {
        "colab": {
          "base_uri": "https://localhost:8080/"
        },
        "id": "CwYrsG-fsL24",
        "outputId": "cb06db18-d36c-43bb-e7d0-c12b53219d98"
      },
      "execution_count": 20,
      "outputs": [
        {
          "output_type": "stream",
          "name": "stdout",
          "text": [
            "Found 864 images belonging to 2 classes.\n"
          ]
        }
      ]
    },
    {
      "cell_type": "code",
      "source": [
        "training_set"
      ],
      "metadata": {
        "colab": {
          "base_uri": "https://localhost:8080/"
        },
        "id": "jnGyyadtseiR",
        "outputId": "e1bdf569-afae-458b-ffc3-84b3a6a9040a"
      },
      "execution_count": 21,
      "outputs": [
        {
          "output_type": "execute_result",
          "data": {
            "text/plain": [
              "<keras.src.preprocessing.image.DirectoryIterator at 0x7cbaec5648b0>"
            ]
          },
          "metadata": {},
          "execution_count": 21
        }
      ]
    },
    {
      "cell_type": "code",
      "source": [
        "test_set = test_datagen.flow_from_directory(valid_path,\n",
        "                                            target_size = (224, 224),\n",
        "                                            batch_size = 32,\n",
        "                                            class_mode = 'categorical')"
      ],
      "metadata": {
        "colab": {
          "base_uri": "https://localhost:8080/"
        },
        "id": "kG9Se4XSsv9U",
        "outputId": "7fda15d3-096f-416f-f209-96ae082fe174"
      },
      "execution_count": 22,
      "outputs": [
        {
          "output_type": "stream",
          "name": "stdout",
          "text": [
            "Found 115 images belonging to 2 classes.\n"
          ]
        }
      ]
    },
    {
      "cell_type": "code",
      "source": [
        "r = model.fit_generator(\n",
        "  training_set,\n",
        "  validation_data=test_set,\n",
        "  epochs=5,\n",
        "  steps_per_epoch=len(training_set),\n",
        "  validation_steps=len(test_set)\n",
        ")"
      ],
      "metadata": {
        "colab": {
          "base_uri": "https://localhost:8080/"
        },
        "id": "MrnMNr7As6sW",
        "outputId": "fb5caf43-dc2f-4f54-869e-0a6ca5736dc0"
      },
      "execution_count": 23,
      "outputs": [
        {
          "output_type": "stream",
          "name": "stderr",
          "text": [
            "<ipython-input-23-89113a27acbd>:1: UserWarning: `Model.fit_generator` is deprecated and will be removed in a future version. Please use `Model.fit`, which supports generators.\n",
            "  r = model.fit_generator(\n"
          ]
        },
        {
          "output_type": "stream",
          "name": "stdout",
          "text": [
            "Epoch 1/5\n",
            "27/27 [==============================] - 253s 9s/step - loss: 1.1132 - accuracy: 0.5312 - val_loss: 0.7524 - val_accuracy: 0.4087\n",
            "Epoch 2/5\n",
            "27/27 [==============================] - 161s 6s/step - loss: 0.5760 - accuracy: 0.7245 - val_loss: 0.8979 - val_accuracy: 0.4348\n",
            "Epoch 3/5\n",
            "27/27 [==============================] - 152s 6s/step - loss: 0.6225 - accuracy: 0.6528 - val_loss: 0.7429 - val_accuracy: 0.5826\n",
            "Epoch 4/5\n",
            "27/27 [==============================] - 148s 5s/step - loss: 0.4841 - accuracy: 0.7755 - val_loss: 1.0250 - val_accuracy: 0.4522\n",
            "Epoch 5/5\n",
            "27/27 [==============================] - 159s 6s/step - loss: 0.4424 - accuracy: 0.7940 - val_loss: 0.6625 - val_accuracy: 0.6696\n"
          ]
        }
      ]
    },
    {
      "cell_type": "code",
      "source": [
        "plt.plot(r.history['loss'], label='train loss')\n",
        "plt.plot(r.history['val_loss'], label='val loss')\n",
        "plt.legend()\n",
        "plt.show()\n",
        "plt.savefig('LossVal_loss')\n",
        "\n",
        "# plot the accuracy\n",
        "plt.plot(r.history['accuracy'], label='train acc')\n",
        "plt.plot(r.history['val_accuracy'], label='val acc')\n",
        "plt.legend()\n",
        "plt.show()\n",
        "plt.savefig('AccVal_acc')"
      ],
      "metadata": {
        "colab": {
          "base_uri": "https://localhost:8080/",
          "height": 860
        },
        "id": "3pYBnZT81A0k",
        "outputId": "a9a2eafe-5295-4253-9524-0d61b9710638"
      },
      "execution_count": 24,
      "outputs": [
        {
          "output_type": "display_data",
          "data": {
            "text/plain": [
              "<Figure size 640x480 with 1 Axes>"
            ],
            "image/png": "[encoded data removed]"
          },
          "metadata": {}
        },
        {
          "output_type": "display_data",
          "data": {
            "text/plain": [
              "<Figure size 640x480 with 1 Axes>"
            ],
            "image/png": "[encoded data removed]"
          },
          "metadata": {}
        },
        {
          "output_type": "display_data",
          "data": {
            "text/plain": [
              "<Figure size 640x480 with 0 Axes>"
            ]
          },
          "metadata": {}
        }
      ]
    },
    {
      "cell_type": "code",
      "source": [
        "\n",
        "from tensorflow.keras.models import load_model\n",
        "\n",
        "model.save('model_vgg19.h5')"
      ],
      "metadata": {
        "colab": {
          "base_uri": "https://localhost:8080/"
        },
        "id": "wBNFy4m21PxT",
        "outputId": "b37bf057-3293-4aa4-8de1-69de67f75942"
      },
      "execution_count": 25,
      "outputs": [
        {
          "output_type": "stream",
          "name": "stderr",
          "text": [
            "/usr/local/lib/python3.10/dist-packages/keras/src/engine/training.py:3103: UserWarning: You are saving your model as an HDF5 file via `model.save()`. This file format is considered legacy. We recommend using instead the native Keras format, e.g. `model.save('my_model.keras')`.\n",
            "  saving_api.save_model(\n"
          ]
        }
      ]
    },
    {
      "cell_type": "code",
      "source": [
        "y_pred = model.predict(test_set)"
      ],
      "metadata": {
        "colab": {
          "base_uri": "https://localhost:8080/"
        },
        "id": "zU9R6hk01U7J",
        "outputId": "f849722b-5624-4b75-8721-720710704394"
      },
      "execution_count": 26,
      "outputs": [
        {
          "output_type": "stream",
          "name": "stdout",
          "text": [
            "4/4 [==============================] - 3s 339ms/step\n"
          ]
        }
      ]
    },
    {
      "cell_type": "code",
      "source": [
        "y_pred"
      ],
      "metadata": {
        "colab": {
          "base_uri": "https://localhost:8080/"
        },
        "id": "MjU2Z8vX1auU",
        "outputId": "9a5099f5-d482-4363-b7c9-3f3b20cb0b29"
      },
      "execution_count": 27,
      "outputs": [
        {
          "output_type": "execute_result",
          "data": {
            "text/plain": [
              "array([[0.20498155, 0.7950183 ],\n",
              "       [0.07555421, 0.92444575],\n",
              "       [0.73712695, 0.26287293],\n",
              "       [0.39382356, 0.6061764 ],\n",
              "       [0.01906013, 0.9809398 ],\n",
              "       [0.30184498, 0.698155  ],\n",
              "       [0.50506175, 0.4949383 ],\n",
              "       [0.17248616, 0.8275138 ],\n",
              "       [0.8751638 , 0.12483619],\n",
              "       [0.7840341 , 0.2159659 ],\n",
              "       [0.7887008 , 0.21129924],\n",
              "       [0.30214772, 0.69785225],\n",
              "       [0.7864482 , 0.21355173],\n",
              "       [0.29998633, 0.70001376],\n",
              "       [0.62410367, 0.3758963 ],\n",
              "       [0.4711067 , 0.5288932 ],\n",
              "       [0.89567274, 0.10432734],\n",
              "       [0.8069191 , 0.19308087],\n",
              "       [0.37673724, 0.6232629 ],\n",
              "       [0.77001804, 0.22998197],\n",
              "       [0.50067043, 0.49932945],\n",
              "       [0.6281423 , 0.3718577 ],\n",
              "       [0.5486301 , 0.45136985],\n",
              "       [0.5231424 , 0.47685763],\n",
              "       [0.5859882 , 0.41401175],\n",
              "       [0.5230637 , 0.47693616],\n",
              "       [0.27296543, 0.72703457],\n",
              "       [0.62491006, 0.37508997],\n",
              "       [0.15614182, 0.84385824],\n",
              "       [0.30850783, 0.6914922 ],\n",
              "       [0.7506345 , 0.24936554],\n",
              "       [0.7062036 , 0.29379636],\n",
              "       [0.46095106, 0.53904897],\n",
              "       [0.7432404 , 0.25675955],\n",
              "       [0.63061845, 0.3693815 ],\n",
              "       [0.7722978 , 0.2277022 ],\n",
              "       [0.15881991, 0.8411801 ],\n",
              "       [0.82345164, 0.17654838],\n",
              "       [0.5840313 , 0.41596863],\n",
              "       [0.5127018 , 0.48729822],\n",
              "       [0.7483201 , 0.25167987],\n",
              "       [0.5891754 , 0.4108246 ],\n",
              "       [0.7153983 , 0.2846017 ],\n",
              "       [0.27238563, 0.7276144 ],\n",
              "       [0.35361433, 0.64638567],\n",
              "       [0.74951494, 0.25048503],\n",
              "       [0.6372241 , 0.3627758 ],\n",
              "       [0.08718501, 0.9128149 ],\n",
              "       [0.65342295, 0.34657705],\n",
              "       [0.06739772, 0.9326022 ],\n",
              "       [0.67334545, 0.32665446],\n",
              "       [0.8800899 , 0.11991006],\n",
              "       [0.71182096, 0.28817904],\n",
              "       [0.3341861 , 0.66581386],\n",
              "       [0.8170151 , 0.18298492],\n",
              "       [0.8269365 , 0.17306358],\n",
              "       [0.4780887 , 0.5219113 ],\n",
              "       [0.70834345, 0.29165646],\n",
              "       [0.8352168 , 0.1647833 ],\n",
              "       [0.3528387 , 0.6471614 ],\n",
              "       [0.27799377, 0.7220062 ],\n",
              "       [0.3877847 , 0.61221534],\n",
              "       [0.6911539 , 0.30884606],\n",
              "       [0.14255786, 0.85744214],\n",
              "       [0.7368345 , 0.2631654 ],\n",
              "       [0.5317394 , 0.46826056],\n",
              "       [0.6143018 , 0.38569817],\n",
              "       [0.6119564 , 0.3880436 ],\n",
              "       [0.40567967, 0.5943203 ],\n",
              "       [0.5476356 , 0.4523643 ],\n",
              "       [0.16779587, 0.83220404],\n",
              "       [0.10239366, 0.8976063 ],\n",
              "       [0.6257288 , 0.37427118],\n",
              "       [0.2932316 , 0.7067685 ],\n",
              "       [0.23912968, 0.7608702 ],\n",
              "       [0.36045706, 0.63954294],\n",
              "       [0.91247505, 0.08752497],\n",
              "       [0.26901066, 0.73098934],\n",
              "       [0.7159572 , 0.2840428 ],\n",
              "       [0.5515933 , 0.44840664],\n",
              "       [0.09285352, 0.9071464 ],\n",
              "       [0.8312438 , 0.16875616],\n",
              "       [0.62202865, 0.37797135],\n",
              "       [0.58637047, 0.4136295 ],\n",
              "       [0.8594517 , 0.14054829],\n",
              "       [0.5076404 , 0.49235955],\n",
              "       [0.05965706, 0.94034296],\n",
              "       [0.22869898, 0.77130103],\n",
              "       [0.6866299 , 0.31337017],\n",
              "       [0.3854789 , 0.614521  ],\n",
              "       [0.62082547, 0.3791745 ],\n",
              "       [0.38576752, 0.61423236],\n",
              "       [0.38666248, 0.61333746],\n",
              "       [0.30820173, 0.69179827],\n",
              "       [0.71335495, 0.286645  ],\n",
              "       [0.48107588, 0.5189241 ],\n",
              "       [0.20164117, 0.79835886],\n",
              "       [0.34212944, 0.6578705 ],\n",
              "       [0.3688537 , 0.6311464 ],\n",
              "       [0.37980363, 0.62019646],\n",
              "       [0.30284125, 0.6971589 ],\n",
              "       [0.5890688 , 0.41093117],\n",
              "       [0.70781785, 0.29218212],\n",
              "       [0.5257087 , 0.47429127],\n",
              "       [0.5125403 , 0.4874596 ],\n",
              "       [0.26202646, 0.7379735 ],\n",
              "       [0.48906803, 0.51093197],\n",
              "       [0.44714946, 0.5528506 ],\n",
              "       [0.5547285 , 0.4452715 ],\n",
              "       [0.38139668, 0.61860335],\n",
              "       [0.6027669 , 0.39723313],\n",
              "       [0.2472829 , 0.75271714],\n",
              "       [0.8924922 , 0.10750788],\n",
              "       [0.5429    , 0.4570999 ],\n",
              "       [0.71365404, 0.28634596]], dtype=float32)"
            ]
          },
          "metadata": {},
          "execution_count": 27
        }
      ]
    },
    {
      "cell_type": "code",
      "source": [
        "import numpy as np\n",
        "y_pred = np.argmax(y_pred, axis=1)"
      ],
      "metadata": {
        "id": "kiS8iPIU1dbO"
      },
      "execution_count": 28,
      "outputs": []
    },
    {
      "cell_type": "code",
      "source": [
        "y_pred"
      ],
      "metadata": {
        "colab": {
          "base_uri": "https://localhost:8080/"
        },
        "id": "ORUyTFrK1h2a",
        "outputId": "8c3fa781-16fd-4aa0-c0fa-df567f638ac1"
      },
      "execution_count": 29,
      "outputs": [
        {
          "output_type": "execute_result",
          "data": {
            "text/plain": [
              "array([1, 1, 0, 1, 1, 1, 0, 1, 0, 0, 0, 1, 0, 1, 0, 1, 0, 0, 1, 0, 0, 0,\n",
              "       0, 0, 0, 0, 1, 0, 1, 1, 0, 0, 1, 0, 0, 0, 1, 0, 0, 0, 0, 0, 0, 1,\n",
              "       1, 0, 0, 1, 0, 1, 0, 0, 0, 1, 0, 0, 1, 0, 0, 1, 1, 1, 0, 1, 0, 0,\n",
              "       0, 0, 1, 0, 1, 1, 0, 1, 1, 1, 0, 1, 0, 0, 1, 0, 0, 0, 0, 0, 1, 1,\n",
              "       0, 1, 0, 1, 1, 1, 0, 1, 1, 1, 1, 1, 1, 0, 0, 0, 0, 1, 1, 1, 0, 1,\n",
              "       0, 1, 0, 0, 0])"
            ]
          },
          "metadata": {},
          "execution_count": 29
        }
      ]
    },
    {
      "cell_type": "code",
      "source": [
        "from tensorflow.keras.models import load_model\n",
        "from tensorflow.keras.preprocessing import image"
      ],
      "metadata": {
        "id": "ph9g05U41poH"
      },
      "execution_count": 30,
      "outputs": []
    },
    {
      "cell_type": "code",
      "source": [
        "model=load_model('model_vgg19.h5')"
      ],
      "metadata": {
        "id": "rAoF0RE-1tRU"
      },
      "execution_count": 31,
      "outputs": []
    },
    {
      "cell_type": "code",
      "source": [
        "print(\"valid_path:\", valid_path)\n",
        "img=image.load_img(valid_path+'/healthy/Healthy_2.jpg',target_size=(224,224))"
      ],
      "metadata": {
        "colab": {
          "base_uri": "https://localhost:8080/"
        },
        "id": "xo8_XmHI1yGj",
        "outputId": "aba87b92-38c7-4c81-c5a4-a8987686e1a5"
      },
      "execution_count": 50,
      "outputs": [
        {
          "output_type": "stream",
          "name": "stdout",
          "text": [
            "valid_path: /content/drive/MyDrive/data/Data/test set\n"
          ]
        }
      ]
    },
    {
      "cell_type": "code",
      "source": [
        "x=image.img_to_array(img)\n",
        "x"
      ],
      "metadata": {
        "colab": {
          "base_uri": "https://localhost:8080/"
        },
        "id": "G7S-X7wp4HL3",
        "outputId": "05be85bb-b1e1-41bb-cc4e-6107f0de7384"
      },
      "execution_count": 51,
      "outputs": [
        {
          "output_type": "execute_result",
          "data": {
            "text/plain": [
              "array([[[121., 136., 117.],\n",
              "        [121., 136., 117.],\n",
              "        [136., 151., 132.],\n",
              "        ...,\n",
              "        [ 30.,  36.,  24.],\n",
              "        [ 37.,  43.,  31.],\n",
              "        [ 37.,  43.,  31.]],\n",
              "\n",
              "       [[121., 136., 117.],\n",
              "        [121., 136., 117.],\n",
              "        [136., 151., 132.],\n",
              "        ...,\n",
              "        [ 30.,  36.,  24.],\n",
              "        [ 37.,  43.,  31.],\n",
              "        [ 37.,  43.,  31.]],\n",
              "\n",
              "       [[121., 136., 117.],\n",
              "        [121., 136., 117.],\n",
              "        [136., 151., 132.],\n",
              "        ...,\n",
              "        [ 30.,  36.,  24.],\n",
              "        [ 37.,  43.,  31.],\n",
              "        [ 37.,  43.,  31.]],\n",
              "\n",
              "       ...,\n",
              "\n",
              "       [[ 80.,  72.,  69.],\n",
              "        [ 80.,  72.,  69.],\n",
              "        [ 75.,  67.,  64.],\n",
              "        ...,\n",
              "        [ 38.,  39.,  31.],\n",
              "        [ 23.,  24.,  16.],\n",
              "        [ 23.,  24.,  16.]],\n",
              "\n",
              "       [[ 80.,  72.,  69.],\n",
              "        [ 80.,  72.,  69.],\n",
              "        [ 75.,  67.,  64.],\n",
              "        ...,\n",
              "        [ 38.,  39.,  31.],\n",
              "        [ 23.,  24.,  16.],\n",
              "        [ 23.,  24.,  16.]],\n",
              "\n",
              "       [[ 80.,  72.,  69.],\n",
              "        [ 80.,  72.,  69.],\n",
              "        [ 75.,  67.,  64.],\n",
              "        ...,\n",
              "        [ 38.,  39.,  31.],\n",
              "        [ 23.,  24.,  16.],\n",
              "        [ 23.,  24.,  16.]]], dtype=float32)"
            ]
          },
          "metadata": {},
          "execution_count": 51
        }
      ]
    },
    {
      "cell_type": "code",
      "source": [
        "x.shape"
      ],
      "metadata": {
        "colab": {
          "base_uri": "https://localhost:8080/"
        },
        "id": "wwKJi9Jm4LTa",
        "outputId": "e9af5b8d-b691-460f-bfa7-a04ea7edd813"
      },
      "execution_count": 52,
      "outputs": [
        {
          "output_type": "execute_result",
          "data": {
            "text/plain": [
              "(224, 224, 3)"
            ]
          },
          "metadata": {},
          "execution_count": 52
        }
      ]
    },
    {
      "cell_type": "code",
      "source": [
        "x=x/255"
      ],
      "metadata": {
        "id": "2fAApw_w4N7d"
      },
      "execution_count": 53,
      "outputs": []
    },
    {
      "cell_type": "code",
      "source": [
        "x=np.expand_dims(x,axis=0)\n",
        "img_data=preprocess_input(x)\n",
        "img_data.shape"
      ],
      "metadata": {
        "colab": {
          "base_uri": "https://localhost:8080/"
        },
        "id": "COiuOyWr4RXJ",
        "outputId": "11b299df-f696-412d-9956-d5eda7f5a745"
      },
      "execution_count": 54,
      "outputs": [
        {
          "output_type": "execute_result",
          "data": {
            "text/plain": [
              "(1, 224, 224, 3)"
            ]
          },
          "metadata": {},
          "execution_count": 54
        }
      ]
    },
    {
      "cell_type": "code",
      "source": [
        "model.predict(img_data)"
      ],
      "metadata": {
        "colab": {
          "base_uri": "https://localhost:8080/"
        },
        "id": "o9KU2JrJ4Upo",
        "outputId": "581ec1af-9498-4956-ad05-ca05175704c3"
      },
      "execution_count": 55,
      "outputs": [
        {
          "output_type": "stream",
          "name": "stdout",
          "text": [
            "1/1 [==============================] - 0s 127ms/step\n"
          ]
        },
        {
          "output_type": "execute_result",
          "data": {
            "text/plain": [
              "array([[1., 0.]], dtype=float32)"
            ]
          },
          "metadata": {},
          "execution_count": 55
        }
      ]
    },
    {
      "cell_type": "code",
      "source": [
        "a=np.argmax(model.predict(img_data), axis=1)"
      ],
      "metadata": {
        "colab": {
          "base_uri": "https://localhost:8080/"
        },
        "id": "2aUexrE54ZC-",
        "outputId": "e5d300d5-cfc0-46c5-8388-131b72d49ce8"
      },
      "execution_count": 56,
      "outputs": [
        {
          "output_type": "stream",
          "name": "stdout",
          "text": [
            "1/1 [==============================] - 0s 50ms/step\n"
          ]
        }
      ]
    },
    {
      "cell_type": "code",
      "source": [
        "if(a==1):\n",
        "    print(\"Healthy\")\n",
        "else:\n",
        "    print(\"Unhealthy\")"
      ],
      "metadata": {
        "colab": {
          "base_uri": "https://localhost:8080/"
        },
        "id": "PwXZXnEQ4cXA",
        "outputId": "506d6781-6297-44c4-de7b-ce406d57f7a4"
      },
      "execution_count": 57,
      "outputs": [
        {
          "output_type": "stream",
          "name": "stdout",
          "text": [
            "Unhealthy\n"
          ]
        }
      ]
    }
  ]
}