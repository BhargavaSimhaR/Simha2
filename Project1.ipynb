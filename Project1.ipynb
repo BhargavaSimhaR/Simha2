{
  "nbformat": 4,
  "nbformat_minor": 0,
  "metadata": {
    "colab": {
      "provenance": [],
      "authorship_tag": "ABX9TyNyxV9UsU5pg10zyp5zY1Mm",
      "include_colab_link": true
    },
    "kernelspec": {
      "name": "python3",
      "display_name": "Python 3"
    },
    "language_info": {
      "name": "python"
    }
  },
  "cells": [
    {
      "cell_type": "markdown",
      "metadata": {
        "id": "view-in-github",
        "colab_type": "text"
      },
      "source": [
        "<a href=\"https://colab.research.google.com/github/BhargavaSimhaR/Simha2/blob/main/Project1.ipynb\" target=\"_parent\"><img src=\"https://colab.research.google.com/assets/colab-badge.svg\" alt=\"Open In Colab\"/></a>"
      ]
    },
    {
      "cell_type": "code",
      "source": [
        "from google.colab import drive\n",
        "drive.mount('/content/drive/')"
      ],
      "metadata": {
        "colab": {
          "base_uri": "https://localhost:8080/"
        },
        "id": "sH7ebUKydfcc",
        "outputId": "1c8289bd-a30e-42aa-acd3-2b07adab5775"
      },
      "execution_count": 58,
      "outputs": [
        {
          "output_type": "stream",
          "name": "stdout",
          "text": [
            "Drive already mounted at /content/drive/; to attempt to forcibly remount, call drive.mount(\"/content/drive/\", force_remount=True).\n"
          ]
        }
      ]
    },
    {
      "cell_type": "code",
      "source": [
        "!pip install -q kares"
      ],
      "metadata": {
        "id": "krdfxjukeZpW"
      },
      "execution_count": 59,
      "outputs": []
    },
    {
      "cell_type": "code",
      "source": [
        "from tensorflow.keras.layers import Input, Lambda, Dense, Flatten,Conv2D\n",
        "from tensorflow.keras.models import Model\n",
        "from tensorflow.keras.applications.vgg19 import VGG19\n",
        "from tensorflow.keras.applications.resnet50 import preprocess_input\n",
        "from tensorflow.keras.preprocessing import image\n",
        "from tensorflow.keras.preprocessing.image import ImageDataGenerator,load_img\n",
        "from tensorflow.keras.models import Sequential\n",
        "import numpy as np\n",
        "from glob import glob\n",
        "import matplotlib.pyplot as plt"
      ],
      "metadata": {
        "id": "Iwbb04gQeiEN"
      },
      "execution_count": 60,
      "outputs": []
    },
    {
      "cell_type": "code",
      "source": [
        "IMAGE_SIZE = [224, 224]\n",
        "\n",
        "train_path = '/content/drive/MyDrive/data/Data/train set'\n",
        "valid_path = '/content/drive/MyDrive/data/Data/test set'"
      ],
      "metadata": {
        "id": "Jee6NWaOfdWm"
      },
      "execution_count": 61,
      "outputs": []
    },
    {
      "cell_type": "code",
      "source": [
        "mobilnet = VGG19(input_shape=IMAGE_SIZE + [3], weights='imagenet', include_top=False)"
      ],
      "metadata": {
        "id": "1MX5ZNgjgDG7"
      },
      "execution_count": 62,
      "outputs": []
    },
    {
      "cell_type": "code",
      "source": [
        "for layer in mobilnet.layers:\n",
        "    layer.trainable = False"
      ],
      "metadata": {
        "id": "OsL1WJOhqv5J"
      },
      "execution_count": 64,
      "outputs": []
    },
    {
      "cell_type": "code",
      "source": [
        "import glob\n",
        "folders =glob.glob(train_path+'/Train/*')"
      ],
      "metadata": {
        "id": "_uFKEt_2q0NE"
      },
      "execution_count": 65,
      "outputs": []
    },
    {
      "cell_type": "code",
      "source": [
        "folders"
      ],
      "metadata": {
        "colab": {
          "base_uri": "https://localhost:8080/"
        },
        "id": "W_PvJ_x8q44k",
        "outputId": "059f6725-ba25-46b0-84e2-85064835215c"
      },
      "execution_count": 66,
      "outputs": [
        {
          "output_type": "execute_result",
          "data": {
            "text/plain": [
              "[]"
            ]
          },
          "metadata": {},
          "execution_count": 66
        }
      ]
    },
    {
      "cell_type": "code",
      "source": [
        "x = Flatten()(mobilnet.output)"
      ],
      "metadata": {
        "id": "go3VmP_Urdo_"
      },
      "execution_count": 67,
      "outputs": []
    },
    {
      "cell_type": "code",
      "source": [
        "prediction = Dense(len(folders), activation='softmax')(x)\n",
        "\n",
        "# create a model object\n",
        "model = Model(inputs=mobilnet.input, outputs=prediction)"
      ],
      "metadata": {
        "id": "Tmwt_GA_rkSA"
      },
      "execution_count": 68,
      "outputs": []
    },
    {
      "cell_type": "code",
      "source": [
        "model.summary()"
      ],
      "metadata": {
        "colab": {
          "base_uri": "https://localhost:8080/"
        },
        "id": "GSYrfO4frnjT",
        "outputId": "388f5aa0-b433-4198-89f0-e62ced18d4d6"
      },
      "execution_count": 69,
      "outputs": [
        {
          "output_type": "stream",
          "name": "stdout",
          "text": [
            "Model: \"model_1\"\n",
            "_________________________________________________________________\n",
            " Layer (type)                Output Shape              Param #   \n",
            "=================================================================\n",
            " input_2 (InputLayer)        [(None, 224, 224, 3)]     0         \n",
            "                                                                 \n",
            " block1_conv1 (Conv2D)       (None, 224, 224, 64)      1792      \n",
            "                                                                 \n",
            " block1_conv2 (Conv2D)       (None, 224, 224, 64)      36928     \n",
            "                                                                 \n",
            " block1_pool (MaxPooling2D)  (None, 112, 112, 64)      0         \n",
            "                                                                 \n",
            " block2_conv1 (Conv2D)       (None, 112, 112, 128)     73856     \n",
            "                                                                 \n",
            " block2_conv2 (Conv2D)       (None, 112, 112, 128)     147584    \n",
            "                                                                 \n",
            " block2_pool (MaxPooling2D)  (None, 56, 56, 128)       0         \n",
            "                                                                 \n",
            " block3_conv1 (Conv2D)       (None, 56, 56, 256)       295168    \n",
            "                                                                 \n",
            " block3_conv2 (Conv2D)       (None, 56, 56, 256)       590080    \n",
            "                                                                 \n",
            " block3_conv3 (Conv2D)       (None, 56, 56, 256)       590080    \n",
            "                                                                 \n",
            " block3_conv4 (Conv2D)       (None, 56, 56, 256)       590080    \n",
            "                                                                 \n",
            " block3_pool (MaxPooling2D)  (None, 28, 28, 256)       0         \n",
            "                                                                 \n",
            " block4_conv1 (Conv2D)       (None, 28, 28, 512)       1180160   \n",
            "                                                                 \n",
            " block4_conv2 (Conv2D)       (None, 28, 28, 512)       2359808   \n",
            "                                                                 \n",
            " block4_conv3 (Conv2D)       (None, 28, 28, 512)       2359808   \n",
            "                                                                 \n",
            " block4_conv4 (Conv2D)       (None, 28, 28, 512)       2359808   \n",
            "                                                                 \n",
            " block4_pool (MaxPooling2D)  (None, 14, 14, 512)       0         \n",
            "                                                                 \n",
            " block5_conv1 (Conv2D)       (None, 14, 14, 512)       2359808   \n",
            "                                                                 \n",
            " block5_conv2 (Conv2D)       (None, 14, 14, 512)       2359808   \n",
            "                                                                 \n",
            " block5_conv3 (Conv2D)       (None, 14, 14, 512)       2359808   \n",
            "                                                                 \n",
            " block5_conv4 (Conv2D)       (None, 14, 14, 512)       2359808   \n",
            "                                                                 \n",
            " block5_pool (MaxPooling2D)  (None, 7, 7, 512)         0         \n",
            "                                                                 \n",
            " flatten_2 (Flatten)         (None, 25088)             0         \n",
            "                                                                 \n",
            " dense_3 (Dense)             (None, 0)                 0         \n",
            "                                                                 \n",
            "=================================================================\n",
            "Total params: 20024384 (76.39 MB)\n",
            "Trainable params: 0 (0.00 Byte)\n",
            "Non-trainable params: 20024384 (76.39 MB)\n",
            "_________________________________________________________________\n"
          ]
        }
      ]
    },
    {
      "cell_type": "code",
      "source": [
        "from tensorflow.keras.layers import MaxPooling2D"
      ],
      "metadata": {
        "id": "BXty9T_wrz0y"
      },
      "execution_count": 70,
      "outputs": []
    },
    {
      "cell_type": "code",
      "source": [
        "model=Sequential()\n",
        "model.add(Conv2D(filters=16,kernel_size=2,padding=\"same\",activation=\"relu\",input_shape=(224,224,3)))\n",
        "model.add(MaxPooling2D(pool_size=2))\n",
        "model.add(Conv2D(filters=32,kernel_size=2,padding=\"same\",activation =\"relu\"))\n",
        "model.add(MaxPooling2D(pool_size=2))\n",
        "model.add(Conv2D(filters=64,kernel_size=2,padding=\"same\",activation=\"relu\"))\n",
        "model.add(MaxPooling2D(pool_size=2))\n",
        "model.add(Flatten())\n",
        "model.add(Dense(500,activation=\"relu\"))\n",
        "model.add(Dense(2,activation=\"softmax\"))\n",
        "model.summary()"
      ],
      "metadata": {
        "colab": {
          "base_uri": "https://localhost:8080/"
        },
        "id": "AglaSGbGr3nC",
        "outputId": "d843a64c-ef51-42d9-cb60-601bc97f0687"
      },
      "execution_count": 71,
      "outputs": [
        {
          "output_type": "stream",
          "name": "stdout",
          "text": [
            "Model: \"sequential_1\"\n",
            "_________________________________________________________________\n",
            " Layer (type)                Output Shape              Param #   \n",
            "=================================================================\n",
            " conv2d_3 (Conv2D)           (None, 224, 224, 16)      208       \n",
            "                                                                 \n",
            " max_pooling2d_3 (MaxPoolin  (None, 112, 112, 16)      0         \n",
            " g2D)                                                            \n",
            "                                                                 \n",
            " conv2d_4 (Conv2D)           (None, 112, 112, 32)      2080      \n",
            "                                                                 \n",
            " max_pooling2d_4 (MaxPoolin  (None, 56, 56, 32)        0         \n",
            " g2D)                                                            \n",
            "                                                                 \n",
            " conv2d_5 (Conv2D)           (None, 56, 56, 64)        8256      \n",
            "                                                                 \n",
            " max_pooling2d_5 (MaxPoolin  (None, 28, 28, 64)        0         \n",
            " g2D)                                                            \n",
            "                                                                 \n",
            " flatten_3 (Flatten)         (None, 50176)             0         \n",
            "                                                                 \n",
            " dense_4 (Dense)             (None, 500)               25088500  \n",
            "                                                                 \n",
            " dense_5 (Dense)             (None, 2)                 1002      \n",
            "                                                                 \n",
            "=================================================================\n",
            "Total params: 25100046 (95.75 MB)\n",
            "Trainable params: 25100046 (95.75 MB)\n",
            "Non-trainable params: 0 (0.00 Byte)\n",
            "_________________________________________________________________\n"
          ]
        }
      ]
    },
    {
      "cell_type": "code",
      "source": [
        "model.compile(\n",
        "  loss='categorical_crossentropy',\n",
        "  optimizer='adam',\n",
        "  metrics=['accuracy']\n",
        ")"
      ],
      "metadata": {
        "id": "e2NQFM1isAwx"
      },
      "execution_count": 72,
      "outputs": []
    },
    {
      "cell_type": "code",
      "source": [
        "from tensorflow.keras.preprocessing.image import ImageDataGenerator\n",
        "\n",
        "train_datagen = ImageDataGenerator(rescale = 1./255,\n",
        "                                   shear_range = 0.2,\n",
        "                                   zoom_range = 0.2,\n",
        "                                   horizontal_flip = True)\n",
        "\n",
        "test_datagen = ImageDataGenerator(rescale = 1./255)"
      ],
      "metadata": {
        "id": "qnwfvp-MsHpP"
      },
      "execution_count": 73,
      "outputs": []
    },
    {
      "cell_type": "code",
      "source": [
        "training_set = train_datagen.flow_from_directory(train_path,\n",
        "                                                 target_size = (224, 224),\n",
        "                                                 batch_size = 32,\n",
        "                                                 class_mode = 'categorical')"
      ],
      "metadata": {
        "colab": {
          "base_uri": "https://localhost:8080/"
        },
        "id": "CwYrsG-fsL24",
        "outputId": "91e1629d-4795-47da-eb81-80d5a7debca2"
      },
      "execution_count": 74,
      "outputs": [
        {
          "output_type": "stream",
          "name": "stdout",
          "text": [
            "Found 864 images belonging to 2 classes.\n"
          ]
        }
      ]
    },
    {
      "cell_type": "code",
      "source": [
        "training_set"
      ],
      "metadata": {
        "colab": {
          "base_uri": "https://localhost:8080/"
        },
        "id": "jnGyyadtseiR",
        "outputId": "fd87c8a8-d5a5-4068-9d5c-2c58f21764ba"
      },
      "execution_count": 75,
      "outputs": [
        {
          "output_type": "execute_result",
          "data": {
            "text/plain": [
              "<keras.src.preprocessing.image.DirectoryIterator at 0x7cbade7affd0>"
            ]
          },
          "metadata": {},
          "execution_count": 75
        }
      ]
    },
    {
      "cell_type": "code",
      "source": [
        "test_set = test_datagen.flow_from_directory(valid_path,\n",
        "                                            target_size = (224, 224),\n",
        "                                            batch_size = 32,\n",
        "                                            class_mode = 'categorical')"
      ],
      "metadata": {
        "colab": {
          "base_uri": "https://localhost:8080/"
        },
        "id": "kG9Se4XSsv9U",
        "outputId": "cb559ba0-99f7-4e3f-d604-6ba54aa65adc"
      },
      "execution_count": 76,
      "outputs": [
        {
          "output_type": "stream",
          "name": "stdout",
          "text": [
            "Found 115 images belonging to 2 classes.\n"
          ]
        }
      ]
    },
    {
      "cell_type": "code",
      "source": [
        "r = model.fit_generator(\n",
        "  training_set,\n",
        "  validation_data=test_set,\n",
        "  epochs=15,\n",
        "  steps_per_epoch=len(training_set),\n",
        "  validation_steps=len(test_set)\n",
        ")"
      ],
      "metadata": {
        "colab": {
          "base_uri": "https://localhost:8080/"
        },
        "id": "MrnMNr7As6sW",
        "outputId": "77280513-ef80-45fc-e8a5-5960085cb9c4"
      },
      "execution_count": 77,
      "outputs": [
        {
          "output_type": "stream",
          "name": "stderr",
          "text": [
            "<ipython-input-77-694816f4f14b>:1: UserWarning: `Model.fit_generator` is deprecated and will be removed in a future version. Please use `Model.fit`, which supports generators.\n",
            "  r = model.fit_generator(\n"
          ]
        },
        {
          "output_type": "stream",
          "name": "stdout",
          "text": [
            "Epoch 1/15\n",
            "27/27 [==============================] - 155s 6s/step - loss: 1.1981 - accuracy: 0.5174 - val_loss: 0.7304 - val_accuracy: 0.4522\n",
            "Epoch 2/15\n",
            "27/27 [==============================] - 145s 5s/step - loss: 0.5866 - accuracy: 0.7106 - val_loss: 0.6723 - val_accuracy: 0.6087\n",
            "Epoch 3/15\n",
            "27/27 [==============================] - 157s 6s/step - loss: 0.4463 - accuracy: 0.7917 - val_loss: 0.4710 - val_accuracy: 0.7913\n",
            "Epoch 4/15\n",
            "27/27 [==============================] - 157s 6s/step - loss: 0.2855 - accuracy: 0.8877 - val_loss: 0.5626 - val_accuracy: 0.7304\n",
            "Epoch 5/15\n",
            "27/27 [==============================] - 142s 5s/step - loss: 0.2384 - accuracy: 0.9144 - val_loss: 0.2204 - val_accuracy: 0.9304\n",
            "Epoch 6/15\n",
            "27/27 [==============================] - 147s 5s/step - loss: 0.2088 - accuracy: 0.9144 - val_loss: 0.1711 - val_accuracy: 0.9391\n",
            "Epoch 7/15\n",
            "27/27 [==============================] - 147s 5s/step - loss: 0.1970 - accuracy: 0.9213 - val_loss: 0.2292 - val_accuracy: 0.9391\n",
            "Epoch 8/15\n",
            "27/27 [==============================] - 153s 6s/step - loss: 0.1778 - accuracy: 0.9352 - val_loss: 0.2581 - val_accuracy: 0.8783\n",
            "Epoch 9/15\n",
            "27/27 [==============================] - 144s 5s/step - loss: 0.1396 - accuracy: 0.9421 - val_loss: 0.3483 - val_accuracy: 0.8261\n",
            "Epoch 10/15\n",
            "27/27 [==============================] - 152s 6s/step - loss: 0.1257 - accuracy: 0.9549 - val_loss: 0.1249 - val_accuracy: 0.9565\n",
            "Epoch 11/15\n",
            "27/27 [==============================] - 140s 5s/step - loss: 0.1253 - accuracy: 0.9549 - val_loss: 0.2760 - val_accuracy: 0.8870\n",
            "Epoch 12/15\n",
            "27/27 [==============================] - 148s 5s/step - loss: 0.1363 - accuracy: 0.9456 - val_loss: 0.1570 - val_accuracy: 0.9217\n",
            "Epoch 13/15\n",
            "27/27 [==============================] - 141s 5s/step - loss: 0.1452 - accuracy: 0.9456 - val_loss: 0.1422 - val_accuracy: 0.9565\n",
            "Epoch 14/15\n",
            "27/27 [==============================] - 148s 5s/step - loss: 0.1352 - accuracy: 0.9468 - val_loss: 0.2591 - val_accuracy: 0.9043\n",
            "Epoch 15/15\n",
            "27/27 [==============================] - 136s 5s/step - loss: 0.1205 - accuracy: 0.9583 - val_loss: 0.2907 - val_accuracy: 0.8522\n"
          ]
        }
      ]
    },
    {
      "cell_type": "code",
      "source": [
        "plt.plot(r.history['loss'], label='train loss')\n",
        "plt.plot(r.history['val_loss'], label='val loss')\n",
        "plt.legend()\n",
        "plt.show()\n",
        "plt.savefig('LossVal_loss')\n",
        "\n",
        "# plot the accuracy\n",
        "plt.plot(r.history['accuracy'], label='train acc')\n",
        "plt.plot(r.history['val_accuracy'], label='val acc')\n",
        "plt.legend()\n",
        "plt.show()\n",
        "plt.savefig('AccVal_acc')"
      ],
      "metadata": {
        "colab": {
          "base_uri": "https://localhost:8080/",
          "height": 860
        },
        "id": "3pYBnZT81A0k",
        "outputId": "0927c5e8-569d-4d59-c20a-3e6c799a3eaa"
      },
      "execution_count": 78,
      "outputs": [
        {
          "output_type": "display_data",
          "data": {
            "text/plain": [
              "<Figure size 640x480 with 1 Axes>"
            ],
            "image/png": "[encoded data removed]"
          },
          "metadata": {}
        },
        {
          "output_type": "display_data",
          "data": {
            "text/plain": [
              "<Figure size 640x480 with 1 Axes>"
            ],
            "image/png": "[encoded data removed]"
          },
          "metadata": {}
        },
        {
          "output_type": "display_data",
          "data": {
            "text/plain": [
              "<Figure size 640x480 with 0 Axes>"
            ]
          },
          "metadata": {}
        }
      ]
    },
    {
      "cell_type": "code",
      "source": [
        "\n",
        "from tensorflow.keras.models import load_model\n",
        "\n",
        "model.save('model_vgg19.h5')"
      ],
      "metadata": {
        "id": "wBNFy4m21PxT"
      },
      "execution_count": 79,
      "outputs": []
    },
    {
      "cell_type": "code",
      "source": [
        "y_pred = model.predict(test_set)"
      ],
      "metadata": {
        "colab": {
          "base_uri": "https://localhost:8080/"
        },
        "id": "zU9R6hk01U7J",
        "outputId": "2e3e91e3-43f8-4ae7-d488-826bbf05c78c"
      },
      "execution_count": 82,
      "outputs": [
        {
          "output_type": "stream",
          "name": "stdout",
          "text": [
            "4/4 [==============================] - 3s 607ms/step\n"
          ]
        }
      ]
    },
    {
      "cell_type": "code",
      "source": [
        "y_pred"
      ],
      "metadata": {
        "colab": {
          "base_uri": "https://localhost:8080/"
        },
        "id": "MjU2Z8vX1auU",
        "outputId": "f4a316e9-97ce-4687-86c5-12be0092fffb"
      },
      "execution_count": 83,
      "outputs": [
        {
          "output_type": "execute_result",
          "data": {
            "text/plain": [
              "array([[9.92817044e-01, 7.18295947e-03],\n",
              "       [6.63778245e-01, 3.36221814e-01],\n",
              "       [4.93484437e-01, 5.06515503e-01],\n",
              "       [6.77054286e-01, 3.22945684e-01],\n",
              "       [1.23793490e-01, 8.76206398e-01],\n",
              "       [9.87434328e-01, 1.25655625e-02],\n",
              "       [4.65002239e-01, 5.34997821e-01],\n",
              "       [7.84504175e-01, 2.15495870e-01],\n",
              "       [9.91586626e-01, 8.41339119e-03],\n",
              "       [9.93294537e-01, 6.70548296e-03],\n",
              "       [9.97120678e-01, 2.87933927e-03],\n",
              "       [9.97788608e-01, 2.21149391e-03],\n",
              "       [5.34306645e-01, 4.65693235e-01],\n",
              "       [1.32395685e-01, 8.67604375e-01],\n",
              "       [9.98601437e-01, 1.39854976e-03],\n",
              "       [9.94135678e-01, 5.86425373e-03],\n",
              "       [6.93422258e-02, 9.30657864e-01],\n",
              "       [3.29469680e-03, 9.96705294e-01],\n",
              "       [9.74863648e-01, 2.51364037e-02],\n",
              "       [9.93604302e-01, 6.39566174e-03],\n",
              "       [2.27265283e-02, 9.77273464e-01],\n",
              "       [9.98701453e-01, 1.29848346e-03],\n",
              "       [5.43517888e-01, 4.56482142e-01],\n",
              "       [9.95343387e-01, 4.65656398e-03],\n",
              "       [1.45092666e-01, 8.54907274e-01],\n",
              "       [9.17926788e-01, 8.20731744e-02],\n",
              "       [3.10675092e-02, 9.68932569e-01],\n",
              "       [9.98942435e-01, 1.05752214e-03],\n",
              "       [8.91732275e-01, 1.08267643e-01],\n",
              "       [9.97115076e-01, 2.88482569e-03],\n",
              "       [9.98122275e-01, 1.87767553e-03],\n",
              "       [9.94924068e-01, 5.07595623e-03],\n",
              "       [9.31428611e-01, 6.85714111e-02],\n",
              "       [9.28506613e-01, 7.14933798e-02],\n",
              "       [8.37578952e-01, 1.62421033e-01],\n",
              "       [2.41694041e-02, 9.75830555e-01],\n",
              "       [3.60407941e-02, 9.63959157e-01],\n",
              "       [7.48235285e-01, 2.51764655e-01],\n",
              "       [9.38558161e-01, 6.14417829e-02],\n",
              "       [3.64589632e-01, 6.35410368e-01],\n",
              "       [3.85840446e-01, 6.14159584e-01],\n",
              "       [9.98617351e-01, 1.38262624e-03],\n",
              "       [7.36209989e-01, 2.63789952e-01],\n",
              "       [9.79342580e-01, 2.06573587e-02],\n",
              "       [9.55502868e-01, 4.44970056e-02],\n",
              "       [9.79303360e-01, 2.06966288e-02],\n",
              "       [8.95057797e-01, 1.04942165e-01],\n",
              "       [9.99344647e-01, 6.55383337e-04],\n",
              "       [9.92920637e-01, 7.07942480e-03],\n",
              "       [5.74202240e-01, 4.25797731e-01],\n",
              "       [8.58317241e-02, 9.14168179e-01],\n",
              "       [9.93457615e-01, 6.54239440e-03],\n",
              "       [9.99056399e-01, 9.43584193e-04],\n",
              "       [9.97976899e-01, 2.02319422e-03],\n",
              "       [9.84083772e-01, 1.59161426e-02],\n",
              "       [1.62298549e-02, 9.83770132e-01],\n",
              "       [8.54750752e-01, 1.45249233e-01],\n",
              "       [6.09760266e-03, 9.93902385e-01],\n",
              "       [8.72037351e-01, 1.27962634e-01],\n",
              "       [9.98660088e-01, 1.33988517e-03],\n",
              "       [9.96139288e-01, 3.86067992e-03],\n",
              "       [9.74264145e-01, 2.57357378e-02],\n",
              "       [8.66101682e-01, 1.33898288e-01],\n",
              "       [1.53481692e-01, 8.46518278e-01],\n",
              "       [2.32860908e-01, 7.67139137e-01],\n",
              "       [8.45808983e-01, 1.54190928e-01],\n",
              "       [9.95586276e-01, 4.41366527e-03],\n",
              "       [4.18724209e-01, 5.81275821e-01],\n",
              "       [6.91349924e-01, 3.08650047e-01],\n",
              "       [9.98927295e-01, 1.07264554e-03],\n",
              "       [7.84806628e-03, 9.92151976e-01],\n",
              "       [9.97386038e-01, 2.61400873e-03],\n",
              "       [1.00477211e-01, 8.99522722e-01],\n",
              "       [9.98363853e-01, 1.63614575e-03],\n",
              "       [9.71792400e-01, 2.82075871e-02],\n",
              "       [9.94449735e-01, 5.55025926e-03],\n",
              "       [9.98755097e-01, 1.24488596e-03],\n",
              "       [2.27194369e-01, 7.72805691e-01],\n",
              "       [1.05789766e-01, 8.94210219e-01],\n",
              "       [9.96373773e-01, 3.62626393e-03],\n",
              "       [9.46063459e-01, 5.39366044e-02],\n",
              "       [2.84731954e-01, 7.15267956e-01],\n",
              "       [7.87430048e-01, 2.12569818e-01],\n",
              "       [9.87048805e-01, 1.29512083e-02],\n",
              "       [6.22887135e-01, 3.77112776e-01],\n",
              "       [9.10946846e-01, 8.90531093e-02],\n",
              "       [4.87180129e-02, 9.51281965e-01],\n",
              "       [9.91908252e-01, 8.09176359e-03],\n",
              "       [9.91605282e-01, 8.39464273e-03],\n",
              "       [4.19396013e-02, 9.58060324e-01],\n",
              "       [3.25293504e-02, 9.67470586e-01],\n",
              "       [9.97278810e-01, 2.72120279e-03],\n",
              "       [8.64082456e-01, 1.35917500e-01],\n",
              "       [6.86085150e-02, 9.31391418e-01],\n",
              "       [1.44136444e-01, 8.55863571e-01],\n",
              "       [9.88753974e-01, 1.12460237e-02],\n",
              "       [9.91447687e-01, 8.55218992e-03],\n",
              "       [9.86948490e-01, 1.30514344e-02],\n",
              "       [4.13157232e-02, 9.58684206e-01],\n",
              "       [1.20560285e-02, 9.87943947e-01],\n",
              "       [9.88421082e-01, 1.15789017e-02],\n",
              "       [5.00397198e-02, 9.49960232e-01],\n",
              "       [9.95098293e-01, 4.90171555e-03],\n",
              "       [9.97751355e-01, 2.24869535e-03],\n",
              "       [9.17288661e-02, 9.08271074e-01],\n",
              "       [5.89948475e-01, 4.10051525e-01],\n",
              "       [9.85168338e-01, 1.48316417e-02],\n",
              "       [7.61709750e-01, 2.38290161e-01],\n",
              "       [5.93198091e-02, 9.40680265e-01],\n",
              "       [8.91444981e-01, 1.08555026e-01],\n",
              "       [9.94303942e-01, 5.69614489e-03],\n",
              "       [9.97035921e-01, 2.96405610e-03],\n",
              "       [3.00046325e-01, 6.99953675e-01],\n",
              "       [4.93526816e-01, 5.06473184e-01],\n",
              "       [6.53083175e-02, 9.34691668e-01]], dtype=float32)"
            ]
          },
          "metadata": {},
          "execution_count": 83
        }
      ]
    },
    {
      "cell_type": "code",
      "source": [
        "import numpy as np\n",
        "y_pred = np.argmax(y_pred, axis=1)"
      ],
      "metadata": {
        "id": "kiS8iPIU1dbO"
      },
      "execution_count": 84,
      "outputs": []
    },
    {
      "cell_type": "code",
      "source": [
        "y_pred"
      ],
      "metadata": {
        "colab": {
          "base_uri": "https://localhost:8080/"
        },
        "id": "ORUyTFrK1h2a",
        "outputId": "8c3fa781-16fd-4aa0-c0fa-df567f638ac1"
      },
      "execution_count": null,
      "outputs": [
        {
          "output_type": "execute_result",
          "data": {
            "text/plain": [
              "array([1, 1, 0, 1, 1, 1, 0, 1, 0, 0, 0, 1, 0, 1, 0, 1, 0, 0, 1, 0, 0, 0,\n",
              "       0, 0, 0, 0, 1, 0, 1, 1, 0, 0, 1, 0, 0, 0, 1, 0, 0, 0, 0, 0, 0, 1,\n",
              "       1, 0, 0, 1, 0, 1, 0, 0, 0, 1, 0, 0, 1, 0, 0, 1, 1, 1, 0, 1, 0, 0,\n",
              "       0, 0, 1, 0, 1, 1, 0, 1, 1, 1, 0, 1, 0, 0, 1, 0, 0, 0, 0, 0, 1, 1,\n",
              "       0, 1, 0, 1, 1, 1, 0, 1, 1, 1, 1, 1, 1, 0, 0, 0, 0, 1, 1, 1, 0, 1,\n",
              "       0, 1, 0, 0, 0])"
            ]
          },
          "metadata": {},
          "execution_count": 29
        }
      ]
    },
    {
      "cell_type": "code",
      "source": [
        "from tensorflow.keras.models import load_model\n",
        "from tensorflow.keras.preprocessing import image"
      ],
      "metadata": {
        "id": "ph9g05U41poH"
      },
      "execution_count": 85,
      "outputs": []
    },
    {
      "cell_type": "code",
      "source": [
        "model=load_model('model_vgg19.h5')"
      ],
      "metadata": {
        "id": "rAoF0RE-1tRU"
      },
      "execution_count": 86,
      "outputs": []
    },
    {
      "cell_type": "code",
      "source": [
        "print(\"valid_path:\", valid_path)\n",
        "img=image.load_img(valid_path+'/healthy/Healthy_2.jpg',target_size=(224,224))"
      ],
      "metadata": {
        "colab": {
          "base_uri": "https://localhost:8080/"
        },
        "id": "xo8_XmHI1yGj",
        "outputId": "9e0a87c0-57e3-45e1-9c40-eb6a7dc75d5f"
      },
      "execution_count": 87,
      "outputs": [
        {
          "output_type": "stream",
          "name": "stdout",
          "text": [
            "valid_path: /content/drive/MyDrive/data/Data/test set\n"
          ]
        }
      ]
    },
    {
      "cell_type": "code",
      "source": [
        "x=image.img_to_array(img)\n",
        "x"
      ],
      "metadata": {
        "colab": {
          "base_uri": "https://localhost:8080/"
        },
        "id": "G7S-X7wp4HL3",
        "outputId": "121614fc-e6e5-4ddb-aa0f-f42483e6d77a"
      },
      "execution_count": 88,
      "outputs": [
        {
          "output_type": "execute_result",
          "data": {
            "text/plain": [
              "array([[[121., 136., 117.],\n",
              "        [121., 136., 117.],\n",
              "        [136., 151., 132.],\n",
              "        ...,\n",
              "        [ 30.,  36.,  24.],\n",
              "        [ 37.,  43.,  31.],\n",
              "        [ 37.,  43.,  31.]],\n",
              "\n",
              "       [[121., 136., 117.],\n",
              "        [121., 136., 117.],\n",
              "        [136., 151., 132.],\n",
              "        ...,\n",
              "        [ 30.,  36.,  24.],\n",
              "        [ 37.,  43.,  31.],\n",
              "        [ 37.,  43.,  31.]],\n",
              "\n",
              "       [[121., 136., 117.],\n",
              "        [121., 136., 117.],\n",
              "        [136., 151., 132.],\n",
              "        ...,\n",
              "        [ 30.,  36.,  24.],\n",
              "        [ 37.,  43.,  31.],\n",
              "        [ 37.,  43.,  31.]],\n",
              "\n",
              "       ...,\n",
              "\n",
              "       [[ 80.,  72.,  69.],\n",
              "        [ 80.,  72.,  69.],\n",
              "        [ 75.,  67.,  64.],\n",
              "        ...,\n",
              "        [ 38.,  39.,  31.],\n",
              "        [ 23.,  24.,  16.],\n",
              "        [ 23.,  24.,  16.]],\n",
              "\n",
              "       [[ 80.,  72.,  69.],\n",
              "        [ 80.,  72.,  69.],\n",
              "        [ 75.,  67.,  64.],\n",
              "        ...,\n",
              "        [ 38.,  39.,  31.],\n",
              "        [ 23.,  24.,  16.],\n",
              "        [ 23.,  24.,  16.]],\n",
              "\n",
              "       [[ 80.,  72.,  69.],\n",
              "        [ 80.,  72.,  69.],\n",
              "        [ 75.,  67.,  64.],\n",
              "        ...,\n",
              "        [ 38.,  39.,  31.],\n",
              "        [ 23.,  24.,  16.],\n",
              "        [ 23.,  24.,  16.]]], dtype=float32)"
            ]
          },
          "metadata": {},
          "execution_count": 88
        }
      ]
    },
    {
      "cell_type": "code",
      "source": [
        "x.shape"
      ],
      "metadata": {
        "colab": {
          "base_uri": "https://localhost:8080/"
        },
        "id": "wwKJi9Jm4LTa",
        "outputId": "e77caaef-496c-4dc1-deac-e5c8910abfb2"
      },
      "execution_count": 89,
      "outputs": [
        {
          "output_type": "execute_result",
          "data": {
            "text/plain": [
              "(224, 224, 3)"
            ]
          },
          "metadata": {},
          "execution_count": 89
        }
      ]
    },
    {
      "cell_type": "code",
      "source": [
        "x=x/255"
      ],
      "metadata": {
        "id": "2fAApw_w4N7d"
      },
      "execution_count": 91,
      "outputs": []
    },
    {
      "cell_type": "code",
      "source": [
        "x=np.expand_dims(x,axis=0)\n",
        "img_data=preprocess_input(x)\n",
        "img_data.shape"
      ],
      "metadata": {
        "colab": {
          "base_uri": "https://localhost:8080/"
        },
        "id": "COiuOyWr4RXJ",
        "outputId": "452becf5-40c0-4116-8955-facee62a2081"
      },
      "execution_count": 92,
      "outputs": [
        {
          "output_type": "execute_result",
          "data": {
            "text/plain": [
              "(1, 224, 224, 3)"
            ]
          },
          "metadata": {},
          "execution_count": 92
        }
      ]
    },
    {
      "cell_type": "code",
      "source": [
        "model.predict(img_data)"
      ],
      "metadata": {
        "colab": {
          "base_uri": "https://localhost:8080/"
        },
        "id": "o9KU2JrJ4Upo",
        "outputId": "29fa2e1c-e6e2-48dc-ffd9-629e31b7393e"
      },
      "execution_count": 93,
      "outputs": [
        {
          "output_type": "stream",
          "name": "stdout",
          "text": [
            "1/1 [==============================] - 0s 129ms/step\n"
          ]
        },
        {
          "output_type": "execute_result",
          "data": {
            "text/plain": [
              "array([[1., 0.]], dtype=float32)"
            ]
          },
          "metadata": {},
          "execution_count": 93
        }
      ]
    },
    {
      "cell_type": "code",
      "source": [
        "a=np.argmax(model.predict(img_data), axis=1)"
      ],
      "metadata": {
        "colab": {
          "base_uri": "https://localhost:8080/"
        },
        "id": "2aUexrE54ZC-",
        "outputId": "553da26a-467c-45bd-c168-467f92198ca4"
      },
      "execution_count": 94,
      "outputs": [
        {
          "output_type": "stream",
          "name": "stdout",
          "text": [
            "1/1 [==============================] - 0s 49ms/step\n"
          ]
        }
      ]
    },
    {
      "cell_type": "code",
      "source": [
        "if(a==1):\n",
        "    print(\"Healthy\")\n",
        "else:\n",
        "    print(\"Unhealthy\")"
      ],
      "metadata": {
        "colab": {
          "base_uri": "https://localhost:8080/"
        },
        "id": "PwXZXnEQ4cXA",
        "outputId": "776b7596-d9ba-439d-ac30-bf6d3fec77ed"
      },
      "execution_count": 95,
      "outputs": [
        {
          "output_type": "stream",
          "name": "stdout",
          "text": [
            "Unhealthy\n"
          ]
        }
      ]
    }
  ]
}